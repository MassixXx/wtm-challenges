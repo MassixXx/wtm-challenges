{
 "cells": [
  {
   "cell_type": "code",
   "execution_count": 1,
   "id": "e7a1b17c",
   "metadata": {},
   "outputs": [],
   "source": [
    "#import required libraries\n",
    "import pandas as pd\n",
    "import numpy as np\n",
    "import matplotlib.pyplot as plt"
   ]
  },
  {
   "cell_type": "code",
   "execution_count": 2,
   "id": "e527fc56",
   "metadata": {},
   "outputs": [
    {
     "data": {
      "text/html": [
       "<div>\n",
       "<style scoped>\n",
       "    .dataframe tbody tr th:only-of-type {\n",
       "        vertical-align: middle;\n",
       "    }\n",
       "\n",
       "    .dataframe tbody tr th {\n",
       "        vertical-align: top;\n",
       "    }\n",
       "\n",
       "    .dataframe thead th {\n",
       "        text-align: right;\n",
       "    }\n",
       "</style>\n",
       "<table border=\"1\" class=\"dataframe\">\n",
       "  <thead>\n",
       "    <tr style=\"text-align: right;\">\n",
       "      <th></th>\n",
       "      <th>age</th>\n",
       "      <th>gender</th>\n",
       "      <th>Body mass index</th>\n",
       "      <th>kids</th>\n",
       "      <th>chronic illness</th>\n",
       "      <th>area</th>\n",
       "      <th>bills</th>\n",
       "    </tr>\n",
       "  </thead>\n",
       "  <tbody>\n",
       "    <tr>\n",
       "      <th>0</th>\n",
       "      <td>19</td>\n",
       "      <td>female</td>\n",
       "      <td>27.900</td>\n",
       "      <td>0</td>\n",
       "      <td>yes</td>\n",
       "      <td>southwest</td>\n",
       "      <td>16884.92400</td>\n",
       "    </tr>\n",
       "    <tr>\n",
       "      <th>1</th>\n",
       "      <td>18</td>\n",
       "      <td>male</td>\n",
       "      <td>33.770</td>\n",
       "      <td>1</td>\n",
       "      <td>no</td>\n",
       "      <td>southeast</td>\n",
       "      <td>1725.55230</td>\n",
       "    </tr>\n",
       "    <tr>\n",
       "      <th>2</th>\n",
       "      <td>28</td>\n",
       "      <td>male</td>\n",
       "      <td>33.000</td>\n",
       "      <td>3</td>\n",
       "      <td>no</td>\n",
       "      <td>southeast</td>\n",
       "      <td>4449.46200</td>\n",
       "    </tr>\n",
       "    <tr>\n",
       "      <th>3</th>\n",
       "      <td>33</td>\n",
       "      <td>male</td>\n",
       "      <td>22.705</td>\n",
       "      <td>0</td>\n",
       "      <td>no</td>\n",
       "      <td>northwest</td>\n",
       "      <td>21984.47061</td>\n",
       "    </tr>\n",
       "    <tr>\n",
       "      <th>4</th>\n",
       "      <td>32</td>\n",
       "      <td>male</td>\n",
       "      <td>28.880</td>\n",
       "      <td>0</td>\n",
       "      <td>no</td>\n",
       "      <td>northwest</td>\n",
       "      <td>3866.85520</td>\n",
       "    </tr>\n",
       "  </tbody>\n",
       "</table>\n",
       "</div>"
      ],
      "text/plain": [
       "   age  gender  Body mass index  kids chronic illness       area        bills\n",
       "0   19  female           27.900     0             yes  southwest  16884.92400\n",
       "1   18    male           33.770     1              no  southeast   1725.55230\n",
       "2   28    male           33.000     3              no  southeast   4449.46200\n",
       "3   33    male           22.705     0              no  northwest  21984.47061\n",
       "4   32    male           28.880     0              no  northwest   3866.85520"
      ]
     },
     "execution_count": 2,
     "metadata": {},
     "output_type": "execute_result"
    }
   ],
   "source": [
    "#read the csv file into a dataframe\n",
    "df = pd.read_csv('indemnity.csv')\n",
    "#view the first 5 rows of the dataframe\n",
    "df.head()"
   ]
  },
  {
   "cell_type": "code",
   "execution_count": 4,
   "id": "ef81a03c",
   "metadata": {},
   "outputs": [
    {
     "data": {
      "text/plain": [
       "age                  int64\n",
       "gender              object\n",
       "Body mass index    float64\n",
       "kids                 int64\n",
       "chronic illness     object\n",
       "area                object\n",
       "bills              float64\n",
       "dtype: object"
      ]
     },
     "execution_count": 4,
     "metadata": {},
     "output_type": "execute_result"
    }
   ],
   "source": [
    "#check the types of the columns\n",
    "df.dtypes"
   ]
  },
  {
   "cell_type": "code",
   "execution_count": 8,
   "id": "4eca28a6",
   "metadata": {},
   "outputs": [
    {
     "data": {
      "text/plain": [
       "age  gender  Body mass index  kids  chronic illness  area       bills      \n",
       "19   male    30.590           0     no               northwest  1639.56310     2\n",
       "30   male    37.430           3     no               northeast  5428.72770     1\n",
       "             38.830           1     no               southeast  18963.17192    1\n",
       "             44.220           2     no               southeast  4266.16580     1\n",
       "31   female  21.755           0     no               northwest  4134.08245     1\n",
       "                                                                              ..\n",
       "47   male    36.190           0     yes              southeast  41676.08110    1\n",
       "             36.200           1     no               southwest  8068.18500     1\n",
       "             38.940           2     yes              southeast  44202.65360    1\n",
       "             47.520           1     no               southeast  8083.91980     1\n",
       "18   female  20.790           0     no               southeast  1607.51010     1\n",
       "Length: 1337, dtype: int64"
      ]
     },
     "execution_count": 8,
     "metadata": {},
     "output_type": "execute_result"
    }
   ],
   "source": [
    "#check the counts for different values\n",
    "df.value_counts()"
   ]
  },
  {
   "cell_type": "code",
   "execution_count": 16,
   "id": "efc2e6ab",
   "metadata": {},
   "outputs": [
    {
     "data": {
      "text/plain": [
       "<AxesSubplot:>"
      ]
     },
     "execution_count": 16,
     "metadata": {},
     "output_type": "execute_result"
    },
    {
     "data": {
      "image/png": "[encoded data removed]",
      "text/plain": [
       "<Figure size 432x288 with 1 Axes>"
      ]
     },
     "metadata": {
      "needs_background": "light"
     },
     "output_type": "display_data"
    }
   ],
   "source": [
    "#visualize gender\n",
    "df['gender'].value_counts().plot(kind='bar')"
   ]
  },
  {
   "cell_type": "code",
   "execution_count": 24,
   "id": "2002e195",
   "metadata": {
    "scrolled": true
   },
   "outputs": [
    {
     "data": {
      "text/plain": [
       "<AxesSubplot:>"
      ]
     },
     "execution_count": 24,
     "metadata": {},
     "output_type": "execute_result"
    },
    {
     "data": {
      "image/png": "[encoded data removed]",
      "text/plain": [
       "<Figure size 432x288 with 1 Axes>"
      ]
     },
     "metadata": {
      "needs_background": "light"
     },
     "output_type": "display_data"
    }
   ],
   "source": [
    "#visualize the age ranges\n",
    "cutted = pd.cut(df['age'],[10*i for i in range(10)],include_lowest=True)\n",
    "cutted.value_counts(sort=False).plot.bar()"
   ]
  },
  {
   "cell_type": "markdown",
   "id": "fe1cf799",
   "metadata": {},
   "source": [
    "#### most of the persons of the dataset are between the age of 20 and 60"
   ]
  },
  {
   "cell_type": "code",
   "execution_count": 25,
   "id": "ea1f8135",
   "metadata": {
    "scrolled": true
   },
   "outputs": [
    {
     "data": {
      "text/plain": [
       "<AxesSubplot:>"
      ]
     },
     "execution_count": 25,
     "metadata": {},
     "output_type": "execute_result"
    },
    {
     "data": {
      "image/png": "[encoded data removed]",
      "text/plain": [
       "<Figure size 432x288 with 1 Axes>"
      ]
     },
     "metadata": {
      "needs_background": "light"
     },
     "output_type": "display_data"
    }
   ],
   "source": [
    "#visualize number of kids distribution\n",
    "df['kids'].value_counts().plot(kind='bar')"
   ]
  },
  {
   "cell_type": "markdown",
   "id": "90545c55",
   "metadata": {},
   "source": [
    "#### most of the persons of the dataset have no children"
   ]
  },
  {
   "cell_type": "code",
   "execution_count": 26,
   "id": "258fe83b",
   "metadata": {
    "scrolled": true
   },
   "outputs": [
    {
     "data": {
      "text/plain": [
       "<AxesSubplot:>"
      ]
     },
     "execution_count": 26,
     "metadata": {},
     "output_type": "execute_result"
    },
    {
     "data": {
      "image/png": "[encoded data removed]",
      "text/plain": [
       "<Figure size 432x288 with 1 Axes>"
      ]
     },
     "metadata": {
      "needs_background": "light"
     },
     "output_type": "display_data"
    }
   ],
   "source": [
    "#visualize area distribution\n",
    "df['area'].value_counts().plot(kind='bar')"
   ]
  },
  {
   "cell_type": "markdown",
   "id": "51b24d19",
   "metadata": {},
   "source": [
    "#### the area distribution doesn't contain bias"
   ]
  },
  {
   "cell_type": "code",
   "execution_count": 56,
   "id": "ec9c453d",
   "metadata": {
    "scrolled": true
   },
   "outputs": [
    {
     "data": {
      "text/plain": [
       "Text(0.5, 1.0, 'average body mass based on age bins')"
      ]
     },
     "execution_count": 56,
     "metadata": {},
     "output_type": "execute_result"
    },
    {
     "data": {
      "image/png": "[encoded data removed]",
      "text/plain": [
       "<Figure size 432x288 with 1 Axes>"
      ]
     },
     "metadata": {
      "needs_background": "light"
     },
     "output_type": "display_data"
    }
   ],
   "source": [
    "#visualize the body mass index for differents bins of age\n",
    "cutted.name='range'\n",
    "ax = pd.concat([df,cutted],axis=1)[['Body mass index','range']].groupby(['range']).mean().plot(kind='bar')\n",
    "ax.set_title('average body mass based on age bins')\n"
   ]
  },
  {
   "cell_type": "markdown",
   "id": "ecf9807d",
   "metadata": {},
   "source": [
    "#### the body mass index is the same for all ranges of age"
   ]
  },
  {
   "cell_type": "code",
   "execution_count": 58,
   "id": "7cdb5b96",
   "metadata": {
    "scrolled": false
   },
   "outputs": [
    {
     "data": {
      "text/plain": [
       "Text(0.5, 1.0, 'average bills based on age bins')"
      ]
     },
     "execution_count": 58,
     "metadata": {},
     "output_type": "execute_result"
    },
    {
     "data": {
      "image/png": "[encoded data removed]",
      "text/plain": [
       "<Figure size 432x288 with 1 Axes>"
      ]
     },
     "metadata": {
      "needs_background": "light"
     },
     "output_type": "display_data"
    }
   ],
   "source": [
    "#visualize bills based on age bills\n",
    "ax = pd.concat([df,cutted],axis=1)[['bills','range']].groupby(['range']).mean().plot(kind='bar')\n",
    "ax.set_title('average bills based on age bins')"
   ]
  },
  {
   "cell_type": "markdown",
   "id": "740753d0",
   "metadata": {},
   "source": [
    "#### we notice that bills is positively correlated with the age"
   ]
  },
  {
   "cell_type": "code",
   "execution_count": 60,
   "id": "f9370a59",
   "metadata": {},
   "outputs": [
    {
     "data": {
      "text/plain": [
       "count     1338.000000\n",
       "mean     13270.422265\n",
       "std      12110.011237\n",
       "min       1121.873900\n",
       "25%       4740.287150\n",
       "50%       9382.033000\n",
       "75%      16639.912515\n",
       "max      63770.428010\n",
       "Name: bills, dtype: float64"
      ]
     },
     "execution_count": 60,
     "metadata": {},
     "output_type": "execute_result"
    }
   ],
   "source": [
    "#get statistical infos about the bills distribution\n",
    "df['bills'].describe()"
   ]
  },
  {
   "cell_type": "code",
   "execution_count": 76,
   "id": "66b0d352",
   "metadata": {
    "scrolled": true
   },
   "outputs": [
    {
     "data": {
      "text/plain": [
       "<AxesSubplot:>"
      ]
     },
     "execution_count": 76,
     "metadata": {},
     "output_type": "execute_result"
    },
    {
     "data": {
      "image/png": "[encoded data removed]",
      "text/plain": [
       "<Figure size 432x288 with 1 Axes>"
      ]
     },
     "metadata": {
      "needs_background": "light"
     },
     "output_type": "display_data"
    }
   ],
   "source": [
    "df['bills'].plot(kind='box')"
   ]
  },
  {
   "cell_type": "markdown",
   "id": "0ad34e43",
   "metadata": {},
   "source": [
    "#### we see that the dataset is biased and contains a lot of outliers"
   ]
  },
  {
   "cell_type": "code",
   "execution_count": 71,
   "id": "aadcd2a5",
   "metadata": {
    "scrolled": false
   },
   "outputs": [
    {
     "data": {
      "text/plain": [
       "<AxesSubplot:>"
      ]
     },
     "execution_count": 71,
     "metadata": {},
     "output_type": "execute_result"
    },
    {
     "data": {
      "image/png": "[encoded data removed]",
      "text/plain": [
       "<Figure size 432x288 with 1 Axes>"
      ]
     },
     "metadata": {
      "needs_background": "light"
     },
     "output_type": "display_data"
    }
   ],
   "source": [
    "#visualize the area istribution of the ill people\n",
    "df['chronic illness'] = df['chronic illness'].replace('yes',1)\n",
    "ill_df = df[df['chronic illness']==1]\n",
    "ill_df['area'].value_counts().plot(kind='bar')"
   ]
  },
  {
   "cell_type": "markdown",
   "id": "01bcbf21",
   "metadata": {},
   "source": [
    "#### little bit more of ill people are on the southeast area"
   ]
  },
  {
   "cell_type": "code",
   "execution_count": 72,
   "id": "21b0ef46",
   "metadata": {
    "scrolled": true
   },
   "outputs": [
    {
     "data": {
      "text/plain": [
       "<AxesSubplot:>"
      ]
     },
     "execution_count": 72,
     "metadata": {},
     "output_type": "execute_result"
    },
    {
     "data": {
      "image/png": "[encoded data removed]",
      "text/plain": [
       "<Figure size 432x288 with 1 Axes>"
      ]
     },
     "metadata": {
      "needs_background": "light"
     },
     "output_type": "display_data"
    }
   ],
   "source": [
    "#visualize age distribution for ill people\n",
    "cutted = pd.cut(ill_df['age'],[10*i for i in range(10)],include_lowest=True)\n",
    "cutted.value_counts(sort=False).plot.bar()"
   ]
  },
  {
   "cell_type": "markdown",
   "id": "4a80af99",
   "metadata": {},
   "source": [
    "#### most of the ill people are between 20 and 50"
   ]
  },
  {
   "cell_type": "code",
   "execution_count": 75,
   "id": "ee7086c2",
   "metadata": {
    "scrolled": true
   },
   "outputs": [
    {
     "data": {
      "text/plain": [
       "<AxesSubplot:>"
      ]
     },
     "execution_count": 75,
     "metadata": {},
     "output_type": "execute_result"
    },
    {
     "data": {
      "image/png": "[encoded data removed]",
      "text/plain": [
       "<Figure size 432x288 with 1 Axes>"
      ]
     },
     "metadata": {
      "needs_background": "light"
     },
     "output_type": "display_data"
    }
   ],
   "source": [
    "#visualizing bills for ill people\n",
    "ill_df['bills'].plot(kind='box')"
   ]
  },
  {
   "cell_type": "markdown",
   "id": "32b7c30a",
   "metadata": {},
   "source": [
    "#### tne distribution of the bills is less biased and contains a higher mean"
   ]
  },
  {
   "cell_type": "code",
   "execution_count": 79,
   "id": "31f35636",
   "metadata": {},
   "outputs": [
    {
     "data": {
      "text/plain": [
       "<AxesSubplot:xlabel='kids'>"
      ]
     },
     "execution_count": 79,
     "metadata": {},
     "output_type": "execute_result"
    },
    {
     "data": {
      "image/png": "[encoded data removed]",
      "text/plain": [
       "<Figure size 432x288 with 1 Axes>"
      ]
     },
     "metadata": {
      "needs_background": "light"
     },
     "output_type": "display_data"
    }
   ],
   "source": [
    "#visualizing bills based on number of child\n",
    "df[['kids','bills']].groupby(['kids'])['bills'].mean().plot(kind='bar')"
   ]
  },
  {
   "cell_type": "markdown",
   "id": "879a6909",
   "metadata": {},
   "source": [
    "#### the number of kids have no apparent relation with the bills distribution"
   ]
  }
 ],
 "metadata": {
  "kernelspec": {
   "display_name": "Python 3 (ipykernel)",
   "language": "python",
   "name": "python3"
  },
  "language_info": {
   "codemirror_mode": {
    "name": "ipython",
    "version": 3
   },
   "file_extension": ".py",
   "mimetype": "text/x-python",
   "name": "python",
   "nbconvert_exporter": "python",
   "pygments_lexer": "ipython3",
   "version": "3.9.7"
  }
 },
 "nbformat": 4,
 "nbformat_minor": 5
}
